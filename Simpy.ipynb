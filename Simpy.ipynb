{
 "cells": [
  {
   "cell_type": "markdown",
   "metadata": {},
   "source": [
    "# Ejemplo Simpy simulador de procesos"
   ]
  },
  {
   "cell_type": "markdown",
   "metadata": {},
   "source": [
    "## Este ejemplo modela la caja de un banco y clientes que llegan T veces al azar. Cada cliente tiene una cierta paciencia. Cuando uno llega a caja se queda ahi un tiempo antes de irse."
   ]
  },
  {
   "cell_type": "code",
   "execution_count": 1,
   "metadata": {},
   "outputs": [
    {
     "name": "stdout",
     "output_type": "stream",
     "text": [
      "Inicio de la simulación\n",
      " 0.0000 Cliente00: Aqui estoy\n",
      " 0.0000 Cliente00: Esperó  0.000\n",
      " 6.8823 Cliente01: Aqui estoy\n",
      " 8.8287 Cliente01: Se Enojó despues de  1.946\n",
      " 9.6594 Cliente02: Aqui estoy\n",
      "10.8298 Cliente02: Se Enojó despues de  1.170\n",
      "12.1738 Cliente00: Terminó\n",
      "44.8376 Cliente03: Aqui estoy\n",
      "44.8376 Cliente03: Esperó  0.000\n",
      "45.9068 Cliente03: Terminó\n",
      "48.6558 Cliente04: Aqui estoy\n",
      "48.6558 Cliente04: Esperó  0.000\n",
      "50.3201 Cliente05: Aqui estoy\n",
      "51.6980 Cliente05: Se Enojó despues de  1.378\n",
      "54.1670 Cliente06: Aqui estoy\n",
      "55.8248 Cliente06: Se Enojó despues de  1.658\n",
      "90.0574 Cliente07: Aqui estoy\n",
      "92.2724 Cliente07: Se Enojó despues de  2.215\n",
      "95.4349 Cliente04: Terminó\n",
      "99.3154 Cliente08: Aqui estoy\n",
      "99.3154 Cliente08: Esperó  0.000\n",
      "109.3937 Cliente09: Aqui estoy\n",
      "112.0435 Cliente09: Se Enojó despues de  2.650\n",
      "138.7014 Cliente08: Terminó\n"
     ]
    }
   ],
   "source": [
    "\n",
    "import random\n",
    "import simpy\n",
    "\n",
    "\n",
    "RANDOM_SEED = 50  # Semilla randomica\n",
    "NUEVOS_CLIENTES = 10  # Numero total de clientes\n",
    "INTERVALO_CLIENTES = 10.0  # Genera nuevos clientes aproximadamente cada x segundos\n",
    "PACIENCIA_MINIMA = 1  # Paciencia minima del cliente\n",
    "PACIENCIA_MAXIMA = 3  # Paciencia maxima del cliente\n",
    "\n",
    "\n",
    "def fuente(env, number, interval, counter):\n",
    "    \"\"\"Aqui se generan clientes al azar\"\"\"\n",
    "    for i in range(number):\n",
    "        c = cliente(env, 'Cliente%02d' % i, counter, time_in_bank=12.0)\n",
    "        env.process(c)\n",
    "        t = random.expovariate(1.0 / interval)\n",
    "        yield env.timeout(t)\n",
    "\n",
    "\n",
    "def cliente(env, name, counter, time_in_bank):\n",
    "    \"\"\"Un cliente llega, es atendido y se va.\"\"\"\n",
    "    arrive = env.now\n",
    "    print('%7.4f %s: Aqui estoy' % (arrive, name))\n",
    "\n",
    "    with counter.request() as req:\n",
    "        patience = random.uniform(PACIENCIA_MINIMA, PACIENCIA_MAXIMA)\n",
    "        # Espera llegar a la caja o si se acaba la paciencia se va\n",
    "        results = yield req | env.timeout(patience)\n",
    "\n",
    "        wait = env.now - arrive\n",
    "\n",
    "        if req in results:\n",
    "            # llega a la caja\n",
    "            print('%7.4f %s: Esperó %6.3f' % (env.now, name, wait))\n",
    "\n",
    "            tib = random.expovariate(1.0 / time_in_bank)\n",
    "            yield env.timeout(tib)\n",
    "            print('%7.4f %s: Terminó' % (env.now, name))\n",
    "\n",
    "        else:\n",
    "            # Se enoja y se va\n",
    "            print('%7.4f %s: Se Enojó despues de %6.3f' % (env.now, name, wait))\n",
    "\n",
    "\n",
    "# Iniciamos la simulación\n",
    "print('Inicio de la simulación')\n",
    "random.seed(RANDOM_SEED)\n",
    "env = simpy.Environment()\n",
    "\n",
    "# Iniciamos el proceso\n",
    "counter = simpy.Resource(env, capacity=1)\n",
    "env.process(fuente(env, NUEVOS_CLIENTES, INTERVALO_CLIENTES, counter))\n",
    "env.run()"
   ]
  },
  {
   "cell_type": "markdown",
   "metadata": {},
   "source": [
    "### Fuente: Basado en el programa bank08.py del tutorial de Simpy 2 TheBank (KGM)"
   ]
  },
  {
   "cell_type": "code",
   "execution_count": null,
   "metadata": {},
   "outputs": [],
   "source": []
  }
 ],
 "metadata": {
  "kernelspec": {
   "display_name": "Python 3",
   "language": "python",
   "name": "python3"
  },
  "language_info": {
   "codemirror_mode": {
    "name": "ipython",
    "version": 3
   },
   "file_extension": ".py",
   "mimetype": "text/x-python",
   "name": "python",
   "nbconvert_exporter": "python",
   "pygments_lexer": "ipython3",
   "version": "3.7.3"
  }
 },
 "nbformat": 4,
 "nbformat_minor": 2
}
