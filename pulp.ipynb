{
 "cells": [
  {
   "cell_type": "markdown",
   "metadata": {},
   "source": [
    "# Ejemplo Pulp \n",
    "\n",
    "## PuLP: Esta librería nos proporciona un lenguaje para modelar y resolver problemas de optimización utilizando programación lineal."
   ]
  },
  {
   "cell_type": "code",
   "execution_count": 1,
   "metadata": {},
   "outputs": [
    {
     "name": "stdout",
     "output_type": "stream",
     "text": [
      "Requirement already satisfied: pulp in c:\\users\\roberto\\anaconda3\\lib\\site-packages (2.0)\n",
      "Requirement already satisfied: pyparsing>=2.0.1 in c:\\users\\roberto\\anaconda3\\lib\\site-packages (from pulp) (2.4.0)\n",
      "Note: you may need to restart the kernel to use updated packages.\n"
     ]
    }
   ],
   "source": [
    "pip install pulp"
   ]
  },
  {
   "cell_type": "markdown",
   "metadata": {},
   "source": [
    " ### El ejemplo trata el problema de los muebles EngSci391 del autor Dr Stuart Mitchell 2007. Se trata de maximizar la ganacia obteniendo la cantidad de cada tipo de silla"
   ]
  },
  {
   "cell_type": "code",
   "execution_count": 2,
   "metadata": {},
   "outputs": [],
   "source": [
    "#Importamos la libreria\n",
    "from pulp import *"
   ]
  },
  {
   "cell_type": "code",
   "execution_count": 3,
   "metadata": {},
   "outputs": [],
   "source": [
    "#Contamos con 2 tipos de sillas A y B que tienen el costo de 100 y 150 respectivamente\n",
    "sillas = [\"A\",\"B\"]\n",
    "costos = {\"A\":100,\n",
    "         \"B\":150}"
   ]
  },
  {
   "cell_type": "code",
   "execution_count": 4,
   "metadata": {},
   "outputs": [],
   "source": [
    "#Los recursos con los que contamos son el torno y la pulidora\n",
    "recursos = [\"Torno\",\"Pulidora\"]\n",
    "#con las siguientes capacidades\n",
    "capacidad = {\"Torno\"    : 40,\n",
    "              \"Pulidora\" : 48}"
   ]
  },
  {
   "cell_type": "code",
   "execution_count": 5,
   "metadata": {},
   "outputs": [],
   "source": [
    "#Se tiene la siguiente actividad en un arreglo\n",
    "actividad = [  #Sillas\n",
    "              #A  B\n",
    "              [1, 2],  #Torno\n",
    "              [3, 1.5] #Pulidora\n",
    "              ]"
   ]
  },
  {
   "cell_type": "code",
   "execution_count": 6,
   "metadata": {},
   "outputs": [
    {
     "data": {
      "text/plain": [
       "{'Torno': {'A': 1, 'B': 2}, 'Pulidora': {'A': 3, 'B': 1.5}}"
      ]
     },
     "execution_count": 6,
     "metadata": {},
     "output_type": "execute_result"
    }
   ],
   "source": [
    "#Creamos un diccionario de la actividad\n",
    "actividad = makeDict([recursos,sillas],actividad)\n",
    "actividad"
   ]
  },
  {
   "cell_type": "code",
   "execution_count": 7,
   "metadata": {},
   "outputs": [],
   "source": [
    "#Definimos el tipo funcion que queremos encontrar y la variable para la iteracion\n",
    "prob = LpProblem(\"Problema_de_la_fabricacion_de_muebles\", LpMaximize)\n",
    "vars = LpVariable.dicts(\"Numero_de_sillas\",sillas, lowBound = 0)"
   ]
  },
  {
   "cell_type": "code",
   "execution_count": 8,
   "metadata": {},
   "outputs": [],
   "source": [
    "#Funcion objetivo\n",
    "prob += lpSum([costos[c]*vars[c] for c in sillas])"
   ]
  },
  {
   "cell_type": "code",
   "execution_count": 9,
   "metadata": {},
   "outputs": [
    {
     "data": {
      "text/plain": [
       "1"
      ]
     },
     "execution_count": 9,
     "metadata": {},
     "output_type": "execute_result"
    }
   ],
   "source": [
    "#Iteramos los recursos en combinacion con el diccionario actividad para hallar la solucion\n",
    "for r in recursos:\n",
    "    prob += lpSum([actividad[r][c]*vars[c] for c in sillas]) <= capacidad[r], \\\n",
    "     \"capacidad_de_%s\"%r \n",
    "prob.solve()"
   ]
  },
  {
   "cell_type": "code",
   "execution_count": 10,
   "metadata": {},
   "outputs": [
    {
     "name": "stdout",
     "output_type": "stream",
     "text": [
      "El numero de sillas a fabricarse para maximar el ingreso debe ser:\n",
      "Numero_de_sillas_A = 8.0\n",
      "Numero_de_sillas_B = 16.0\n"
     ]
    }
   ],
   "source": [
    "#Mostramos en pantalla cada una de las variables\n",
    "print(\"El numero de sillas a fabricarse para maximar el ingreso debe ser:\")\n",
    "for v in prob.variables():\n",
    "    print(v.name, \"=\", v.varValue)"
   ]
  },
  {
   "cell_type": "code",
   "execution_count": 11,
   "metadata": {},
   "outputs": [
    {
     "name": "stdout",
     "output_type": "stream",
     "text": [
      "Ingresos totales de produccion =  3200.0\n"
     ]
    }
   ],
   "source": [
    "#Mostramos el valor optimizado de la funcion objetivo\n",
    "print(\"Ingresos totales de produccion = \", value(prob.objective))"
   ]
  },
  {
   "cell_type": "markdown",
   "metadata": {},
   "source": [
    "### Fuente del ejemplo y datos: https://github.com/coin-or/pulp/blob/master/examples/furniture.py"
   ]
  }
 ],
 "metadata": {
  "kernelspec": {
   "display_name": "Python 3",
   "language": "python",
   "name": "python3"
  },
  "language_info": {
   "codemirror_mode": {
    "name": "ipython",
    "version": 3
   },
   "file_extension": ".py",
   "mimetype": "text/x-python",
   "name": "python",
   "nbconvert_exporter": "python",
   "pygments_lexer": "ipython3",
   "version": "3.7.3"
  }
 },
 "nbformat": 4,
 "nbformat_minor": 2
}
